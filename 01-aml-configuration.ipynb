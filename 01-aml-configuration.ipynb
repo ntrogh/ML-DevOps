{
 "cells": [
  {
   "cell_type": "markdown",
   "metadata": {},
   "source": [
    "Copyright (c) Microsoft Corporation. All rights reserved.  \n",
    "Licensed under the MIT License."
   ]
  },
  {
   "cell_type": "markdown",
   "metadata": {},
   "source": [
    "# AML Pipelines Configuration\n",
    "\n",
    "## Prerequisite:\n",
    "**Please make sure that you are running all notebooks in the `azureml` (or the right) conda environment.** Make sure you see 'Python [default]' or 'Python [conda env:Azureml]' in the top right corner. If you don't, please select the 'Python [conda env:azureml]' from Kernel/change Kernel menu above.\n",
    "\n",
    "**NOTE**: Your conda environment could be different. Please follow this article to set up a [development environment](https://docs.microsoft.com/en-us/azure/machine-learning/service/how-to-choose-a-dev-environment) if needed.\n",
    "\n",
    "## Reference:\n",
    "To get more information about a function, class or module, we recommend using the python help() function or to refer to the documentation."
   ]
  },
  {
   "cell_type": "code",
   "execution_count": null,
   "metadata": {},
   "outputs": [],
   "source": [
    "!pip install --upgrade --user 'azureml-sdk[notebooks]'"
   ]
  },
  {
   "cell_type": "code",
   "execution_count": null,
   "metadata": {},
   "outputs": [],
   "source": [
    "# example of calling help on the AzureML Workspace class\n",
    "from azureml.core import Workspace\n",
    "help(Workspace.compute_targets)"
   ]
  },
  {
   "cell_type": "code",
   "execution_count": null,
   "metadata": {},
   "outputs": [],
   "source": [
    "# Check core SDK version number for debugging purposes\n",
    "import azureml.core\n",
    "\n",
    "print(\"SDK Version:\", azureml.core.VERSION)"
   ]
  },
  {
   "cell_type": "markdown",
   "metadata": {},
   "source": [
    "## Content of this Notebook\n",
    "In this example you will create an Azure Machine Learning Workspace and initialize your notebook directory to easily use this workspace.  Typically you will only need to run this once per notebook directory, and all other notebooks in this directory or any sub-directories will automatically use the settings you indicate here.\n",
    "\n",
    "## Initialize an Azure ML Workspace\n",
    "### What is an Azure ML Workspace and why do I need one?\n",
    "\n",
    "An [AML Workspace](https://docs.microsoft.com/en-us/python/api/azureml-core/azureml.core.workspace(class%29) is an Azure resource that organaizes and coordinates the actions of many other Azure resources to assist in executing and sharing machine learning workflows.  In particular, an AML Workspace coordinates storage, databases, and compute resources providing added functionality for machine learning experimentation, operationalization, and the monitoring of operationalized models.\n",
    "\n",
    "### What do I need?\n",
    "\n",
    "In order to use an AML Workspace, first you need access to an Azure Subscription. Inside your subscription, you will need access to a _resource group_, which organizes Azure resources and provides a default region for the resources in a group.\n",
    "\n",
    "To create or access an Azure ML Workspace, you will need to import the AML library and the following information:\n",
    "* A name for your workspace\n",
    "* Your subscription id\n",
    "* The resource group name\n",
    "* Azure region you want to create the workspace\n",
    "\n",
    "Please specify the Azure subscription Id, resource group name, workspace name, and the region in which you want to create the workspace."
   ]
  },
  {
   "cell_type": "code",
   "execution_count": null,
   "metadata": {},
   "outputs": [],
   "source": [
    "subscription_id ='<your subscription>'\n",
    "resource_group ='<resource group>'\n",
    "workspace_name = '<workspace name>'\n",
    "workspace_region = '<region>'\n",
    "\n",
    "print (\"Variables set\")"
   ]
  },
  {
   "cell_type": "markdown",
   "metadata": {},
   "source": [
    "## Creating a workspace\n",
    "This cell will [create a workspace](https://docs.microsoft.com/en-us/python/api/azureml-core/azureml.core.workspace(class%29) for you in a subscription provided you have the correct permissions. If you already have created the AML Workspace you want to use, the code below will just retrieve it.\n",
    "\n",
    "**The below code will fail only if**:\n",
    "- you do not have permission to create a workspace in the resource group OR\n",
    "- you are not a subscription owner or contributor and no Azure ML workspaces have ever been created in this subscription\n",
    "\n",
    "We have provided you with the right access to the resource group and subscription, so in case of an error, please double-check the subscription_id, resource_group and region used.\n",
    "\n",
    "**Note: the creation of a workspace can take more than 30 seconds -- please wait for the call to complete before moving to the next cell**\n",
    "\n",
    "**You will get taken to a new tab to perform Azure device login. Please enter your full Microsoft email for the user ID.**\n"
   ]
  },
  {
   "cell_type": "code",
   "execution_count": null,
   "metadata": {},
   "outputs": [],
   "source": [
    "# get the workspace, if exists\n",
    "from azureml.exceptions import ProjectSystemException\n",
    "\n",
    "try:\n",
    "    # This will fail when called the first time when the workspace doesn't exist\n",
    "    # If so, just wait we will make the next call to create one.\n",
    "    print(\"If you see a failure from this call, please wait for this cell to finish running.\")\n",
    "    ws = Workspace.get(workspace_name, subscription_id=subscription_id, resource_group=resource_group)\n",
    "    \n",
    "except ProjectSystemException:\n",
    "# create workspace, if does not exist.\n",
    "    ws = Workspace.create(workspace_name, \n",
    "                          subscription_id=subscription_id,\n",
    "                          resource_group=resource_group, \n",
    "                          location=workspace_region)\n",
    "\n",
    "print(\"***IF YOU SEE THIS MESSAGE, YOU GOT A WORKSPACE!***\")\n",
    "print(\"got workspace. name:\", ws.name, \", location:\", ws.location)"
   ]
  },
  {
   "cell_type": "markdown",
   "metadata": {},
   "source": [
    "### Wait for this call to finish before proceeding (you will see the asterisk turning to a number).\n",
    "\n",
    "Great -- you have created your own workspace. Now, spend some time looking at what it has to offer by executing some of its methods. At the beginning your workspace will not have much attached to it, but over the course of these tutorial notebooks, you will see more and more things being added."
   ]
  },
  {
   "cell_type": "code",
   "execution_count": null,
   "metadata": {},
   "outputs": [],
   "source": [
    "# datastores attached to the workspace (will just contain the default datastore)\n",
    "print(\"Datastores:\", ws.datastores)\n",
    "\n",
    "# the default datastore attached to this workspace\n",
    "print(\"Default datastore:\", ws.get_default_datastore())\n",
    "\n",
    "# the compute targets of this datastore (empty for a new workspace)\n",
    "print(\"Compute Targets:\", ws.compute_targets)"
   ]
  },
  {
   "cell_type": "markdown",
   "metadata": {},
   "source": [
    "## Save your workspace configuration to a config file\n",
    "You can write a configuration file to the default configuration location, `./aml_config/config.json` -- later, you can just load the configuration from this file to save you some typing.\n",
    "\n",
    "**We are writing the configuration file to all the subdirectories that we plan to use today.**"
   ]
  },
  {
   "cell_type": "code",
   "execution_count": null,
   "metadata": {},
   "outputs": [],
   "source": [
    "# persist the subscription id, resource group name, and workspace name in aml_config/config.json.\n",
    "ws.write_config()"
   ]
  },
  {
   "cell_type": "markdown",
   "metadata": {},
   "source": [
    "You can then load the workspace from this config file from any notebook in the current directory.\n",
    "\n",
    "**Your workspace details are loaded from the saved file and being printed below.**"
   ]
  },
  {
   "cell_type": "code",
   "execution_count": null,
   "metadata": {},
   "outputs": [],
   "source": [
    "# load workspace configuratio from ./azureml/config.json file\n",
    "my_workspace = Workspace.from_config()\n",
    "my_workspace.get_details()"
   ]
  },
  {
   "cell_type": "markdown",
   "metadata": {},
   "source": [
    "## Installing Packages\n",
    "These packages are used at later stages."
   ]
  },
  {
   "cell_type": "code",
   "execution_count": null,
   "metadata": {},
   "outputs": [],
   "source": [
    "!pip install pandas\n",
    "!pip install requests"
   ]
  },
  {
   "cell_type": "markdown",
   "metadata": {},
   "source": [
    "## Enabling Widgets"
   ]
  },
  {
   "cell_type": "code",
   "execution_count": null,
   "metadata": {},
   "outputs": [],
   "source": [
    "!jupyter nbextension install --py --user azureml.widgets\n",
    "!jupyter nbextension enable --py --user azureml.widgets"
   ]
  },
  {
   "cell_type": "markdown",
   "metadata": {},
   "source": [
    "## Next: \n",
    "[Diabetes regression using Azure ML](./02-diabetes-with-aml.ipynb)."
   ]
  }
 ],
 "metadata": {
  "authors": [
   {
    "name": "diray"
   }
  ],
  "kernelspec": {
   "display_name": "Python 3",
   "language": "python",
   "name": "python3"
  },
  "language_info": {
   "codemirror_mode": {
    "name": "ipython",
    "version": 3
   },
   "file_extension": ".py",
   "mimetype": "text/x-python",
   "name": "python",
   "nbconvert_exporter": "python",
   "pygments_lexer": "ipython3",
   "version": "3.7.3"
  }
 },
 "nbformat": 4,
 "nbformat_minor": 2
}
